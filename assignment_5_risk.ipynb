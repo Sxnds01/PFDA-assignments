{
 "cells": [
  {
   "cell_type": "markdown",
   "metadata": {},
   "source": [
    "# Plot of 1000 Individual Risk Battle Rounds\n",
    "---\n",
    "This program simulates 1000 different battle rounds for the game Risk and plots the results."
   ]
  },
  {
   "cell_type": "markdown",
   "metadata": {},
   "source": [
    "## Rules of Risk\n",
    "- This game can be played with up to 5 players.\n",
    "- To start, each player roles a die and the player with the highest number can place their first army on any of the territories. Then, starting left of the first player, each player places an amy on unclaimed territory until all are occupied.\n",
    "- Starting from the first player, each player can now decide to attack neighbouring territories based on certain rules. If the player chooses not to attack, they pass the dice to the player on their left.\n",
    "- If the player chooses to attack there are rules to this battle round.\n",
    "- The attacking player can use up to three dice depending on how many armies occupy their own territory and the defender can choose up the two dice. For the purpose of plotting we will assume that the attacker chooses 3 dice and the defender 2 dice each time.\n",
    "- The attacker and defender roll their die at the same time. The lowest of the three dice by the attacker is not counted.\n",
    "- If each of the attacker's dice are higher than the defender's dice the defender will lose an army per die. So if the attacker rolls a 6,6,1 and the defender 4,3 for example, the defender loses two armies and if the defender rolls higher dice than the attacker then they lose two armies. If only one of the attacker's die is higher then the defender losses one army and vice versa but if the defender and attacker roll a die or dice of the same value (i.e. when comparing the highest and second highest dice of the defender and attcker and both the highest and/or second highest are the same), then the attacker loses an army or two armies.\n",
    "- The game is won when one player has an army on every territory."
   ]
  },
  {
   "cell_type": "markdown",
   "metadata": {},
   "source": [
    "## Main Things to Highlight for Programme\n",
    "---\n",
    "- 1000 individual battle rounds\n",
    "- Attacker can roll three numbers from values 1-6 inclusive\n",
    "- Defender can roll two number from values 1-6 inclusive\n",
    "- Lowest number of three is dicarded\n",
    "- If die 1 of attacker is greater than die 1 of defender, defender loses 1 army, if lower then attacker loses an army\n",
    "- If die 2 of attacker is greater than die 2 of defender, defender loses another army, if lower then attacker loses another army\n",
    "- If die 1 of attacker is equal to die 1 of defender, attacker loses 1 army\n",
    "- If die 2 of attacker is equal to die 2 of defender, attacker loses another army"
   ]
  }
 ],
 "metadata": {
  "language_info": {
   "name": "python"
  }
 },
 "nbformat": 4,
 "nbformat_minor": 2
}
