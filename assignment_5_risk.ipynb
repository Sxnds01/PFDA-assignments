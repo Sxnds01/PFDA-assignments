{
 "cells": [
  {
   "cell_type": "markdown",
   "metadata": {},
   "source": [
    "# Plot of 1000 Individual Risk Battle Rounds\n",
    "---\n",
    "This program simulates 1000 different battle rounds for the game Risk and plots the results."
   ]
  },
  {
   "cell_type": "markdown",
   "metadata": {},
   "source": [
    "## Rules of Risk\n",
    "- This game can be played with up to 5 players.\n",
    "- To start, each player roles a die and the player with the highest number can place their first army on any of the territories. Then, starting left of the first player, each player places an amy on unclaimed territory until all are occupied.\n",
    "- Starting from the first player, each player can now decide to attack neighbouring territories based on certain rules. If the player chooses not to attack, they pass the dice to the player on their left.\n",
    "- If the player chooses to attack there are rules to this battle round.\n",
    "- The attacking player can use up to three dice depending on how many armies occupy their own territory and the defender can choose up the two dice. For the purpose of plotting we will assume that the attacker chooses 3 dice and the defender 2 dice each time.\n",
    "- The attacker and defender roll their die at the same time. The lowest of the three dice by the attacker is not counted.\n",
    "- If each of the attacker's dice are higher than the defender's dice the defender will lose an army per die. So if the attacker rolls a 6,6,1 and the defender 4,3 for example, the defender loses two armies and if the defender rolls higher dice than the attacker then they lose two armies. If only one of the attacker's die is higher then the defender losses one army and vice versa but if the defender and attacker roll a die or dice of the same value (i.e. when comparing the highest and second highest dice of the defender and attcker and both the highest and/or second highest are the same), then the attacker loses an army or two armies.\n",
    "- The game is won when one player has an army on every territory."
   ]
  },
  {
   "cell_type": "markdown",
   "metadata": {},
   "source": [
    "## Main Things to Highlight for Programme\n",
    "---\n",
    "- 1000 individual battle rounds\n",
    "- Attacker can roll three numbers from values 1-6 inclusive\n",
    "- Defender can roll two number from values 1-6 inclusive\n",
    "- Lowest number of three is dicarded\n",
    "- If die 1 of attacker is greater than die 1 of defender, defender loses 1 army, if lower then attacker loses an army\n",
    "- If die 2 of attacker is greater than die 2 of defender, defender loses another army, if lower then attacker loses another army\n",
    "- If die 1 of attacker is equal to die 1 of defender, attacker loses 1 army\n",
    "- If die 2 of attacker is equal to die 2 of defender, attacker loses another army\n",
    "- There are 216 possible combinations when rolling 3 dice (6^3), and 36 possible combonations when rolling 2 dice (6^2)."
   ]
  },
  {
   "cell_type": "code",
   "execution_count": 5,
   "metadata": {},
   "outputs": [],
   "source": [
    "import numpy as np\n",
    "import seaborn as sns\n",
    "import matplotlib.pyplot as plt"
   ]
  },
  {
   "cell_type": "code",
   "execution_count": 6,
   "metadata": {},
   "outputs": [
    {
     "data": {
      "text/plain": [
       "array([1, 2, 3, 4, 5, 6])"
      ]
     },
     "execution_count": 6,
     "metadata": {},
     "output_type": "execute_result"
    }
   ],
   "source": [
    "n_sides = 6\n",
    "\n",
    "die = np.array([i for i in range(1, n_sides+1)])\n",
    "\n",
    "die"
   ]
  },
  {
   "cell_type": "code",
   "execution_count": 20,
   "metadata": {},
   "outputs": [],
   "source": [
    "from collections import Counter\n",
    "from collections import namedtuple"
   ]
  },
  {
   "cell_type": "code",
   "execution_count": 4,
   "metadata": {},
   "outputs": [
    {
     "data": {
      "text/plain": [
       "Counter({1: 1, 2: 1, 3: 1, 4: 1, 5: 1, 6: 1})"
      ]
     },
     "execution_count": 4,
     "metadata": {},
     "output_type": "execute_result"
    }
   ],
   "source": [
    "d6 = Counter(range(1,7))\n",
    "\n",
    "d6"
   ]
  },
  {
   "cell_type": "code",
   "execution_count": 17,
   "metadata": {},
   "outputs": [
    {
     "name": "stdout",
     "output_type": "stream",
     "text": [
      "[(1, 1), (1, 2), (2, 1), (2, 2), (3, 1), (3, 2)]\n"
     ]
    }
   ],
   "source": [
    "options = [(x, y) for x in range(1, 4) for y in range(1, 3)]\n",
    "\n",
    "print(options)"
   ]
  },
  {
   "cell_type": "code",
   "execution_count": 7,
   "metadata": {},
   "outputs": [],
   "source": [
    "def attackers(attack):\n",
    "    #Number of attackers in an attack\n",
    "    return attack[0]\n",
    "\n",
    "def defenders(attack):\n",
    "    #Number of defenders in an attack\n",
    "    return attack[1]\n",
    "\n",
    "def total_armies(attack):\n",
    "    #Total number of armies on both sides involved in an attck\n",
    "    return attackers(attack)+defenders(attack)"
   ]
  },
  {
   "cell_type": "code",
   "execution_count": null,
   "metadata": {},
   "outputs": [],
   "source": [
    "def get_roll_probs(attacks):\n",
    "    #Probability distribution of rolls in attacks, by total number of dice rolled\n",
    "    return {total_armies(attack): (total_armies(attack), product=True) for attack in attacks}"
   ]
  },
  {
   "cell_type": "code",
   "execution_count": 18,
   "metadata": {},
   "outputs": [
    {
     "ename": "TypeError",
     "evalue": "'numpy.ndarray' object is not callable",
     "output_type": "error",
     "traceback": [
      "\u001b[1;31m---------------------------------------------------------------------------\u001b[0m",
      "\u001b[1;31mTypeError\u001b[0m                                 Traceback (most recent call last)",
      "Cell \u001b[1;32mIn[18], line 1\u001b[0m\n\u001b[1;32m----> 1\u001b[0m roll_probs \u001b[38;5;241m=\u001b[39m get_roll_probs(options)\n\u001b[0;32m      2\u001b[0m \u001b[38;5;28mlen\u001b[39m(roll_probs)\n",
      "Cell \u001b[1;32mIn[15], line 3\u001b[0m, in \u001b[0;36mget_roll_probs\u001b[1;34m(attacks)\u001b[0m\n\u001b[0;32m      1\u001b[0m \u001b[38;5;28;01mdef\u001b[39;00m \u001b[38;5;21mget_roll_probs\u001b[39m(attacks):\n\u001b[0;32m      2\u001b[0m     \u001b[38;5;66;03m#Probability distribution of rolls in attacks, by total number of dice rolled\u001b[39;00m\n\u001b[1;32m----> 3\u001b[0m     \u001b[38;5;28;01mreturn\u001b[39;00m {total_armies(attack): die(total_armies(attack), product\u001b[38;5;241m=\u001b[39m\u001b[38;5;28;01mTrue\u001b[39;00m) \u001b[38;5;28;01mfor\u001b[39;00m attack \u001b[38;5;129;01min\u001b[39;00m attacks}\n",
      "\u001b[1;31mTypeError\u001b[0m: 'numpy.ndarray' object is not callable"
     ]
    }
   ],
   "source": [
    "roll_probs = get_roll_probs(options)\n",
    "len(roll_probs)"
   ]
  },
  {
   "cell_type": "code",
   "execution_count": 8,
   "metadata": {},
   "outputs": [],
   "source": [
    "def attacker_roll(attack, roll):\n",
    "    #Dice rolled by attacker, sorted highest to lowest.\n",
    "    return sorted(roll[:attackers(attack)], reverse=True)\n",
    "\n",
    "def defender_roll(attack, roll):\n",
    "    #Dice rolled by defender, sorted highest to lowest.\n",
    "    return sorted(roll[-defenders(attack):], reverse=True)"
   ]
  },
  {
   "cell_type": "code",
   "execution_count": 19,
   "metadata": {},
   "outputs": [
    {
     "ename": "TypeError",
     "evalue": "'module' object is not subscriptable",
     "output_type": "error",
     "traceback": [
      "\u001b[1;31m---------------------------------------------------------------------------\u001b[0m",
      "\u001b[1;31mTypeError\u001b[0m                                 Traceback (most recent call last)",
      "Cell \u001b[1;32mIn[19], line 2\u001b[0m\n\u001b[0;32m      1\u001b[0m attack \u001b[38;5;241m=\u001b[39m (\u001b[38;5;241m3\u001b[39m,\u001b[38;5;241m2\u001b[39m)\n\u001b[1;32m----> 2\u001b[0m roll \u001b[38;5;241m=\u001b[39m np\u001b[38;5;241m.\u001b[39mrandom[total_armies(attack)]\u001b[38;5;241m.\u001b[39mchoice()\n\u001b[0;32m      4\u001b[0m roll\n",
      "\u001b[1;31mTypeError\u001b[0m: 'module' object is not subscriptable"
     ]
    }
   ],
   "source": [
    "attack = (3,2)\n",
    "roll = np.random[total_armies(attack)].choice()\n",
    "\n",
    "roll"
   ]
  },
  {
   "cell_type": "code",
   "execution_count": 21,
   "metadata": {},
   "outputs": [
    {
     "name": "stdout",
     "output_type": "stream",
     "text": [
      "[Attack(n_attackers=1, n_defenders=1), Attack(n_attackers=1, n_defenders=2), Attack(n_attackers=2, n_defenders=1), Attack(n_attackers=2, n_defenders=2), Attack(n_attackers=3, n_defenders=1), Attack(n_attackers=3, n_defenders=2)]\n"
     ]
    }
   ],
   "source": [
    "from typing import NamedTuple\n",
    "\n",
    "class Attack(NamedTuple):\n",
    "    n_attackers: int\n",
    "    n_defenders: int\n",
    "\n",
    "options = [\n",
    "    Attack(x, y) for x in range(1, 4) for y in range(1, 3)\n",
    "]\n",
    "\n",
    "print(options)"
   ]
  },
  {
   "cell_type": "code",
   "execution_count": 29,
   "metadata": {},
   "outputs": [
    {
     "name": "stdout",
     "output_type": "stream",
     "text": [
      "Attack(n_attackers=3, n_defenders=2)\n",
      "[6 3 2]\n",
      "[3 2]\n"
     ]
    }
   ],
   "source": [
    "\n",
    "class Attack(NamedTuple):\n",
    "    n_attackers: int\n",
    "    n_defenders: int\n",
    "\n",
    "options = [\n",
    "    Attack(x, y) for x in range (3, 4) for y in range (2, 3)\n",
    "]\n",
    "\n",
    "for option in options:\n",
    "    print(option)\n",
    "\n",
    "    attack = np.random.randint(1, 7, option.n_attackers)\n",
    "    attack.sort()\n",
    "    attack = np.flip(attack)\n",
    "    print(attack)\n",
    "\n",
    "    defence = np.random.randint(1, 7, option.n_defenders)\n",
    "    defence.sort()\n",
    "    defence = np.flip(defence)\n",
    "    print(defence)"
   ]
  },
  {
   "cell_type": "markdown",
   "metadata": {},
   "source": [
    "## References\n",
    "---\n",
    "1. How to play Risk: https://www.hasbro.com/common/instruct/risk.pdf\n",
    "2. Battle Outcome Analysis: https://www.c4i.gr/xgeorgio/docs/RISK-board-game%20_rev-3.pdf\n",
    "3. Battle simulation code: https://practicallypredictable.com/2017/12/18/analyzing-board-game-risk/"
   ]
  }
 ],
 "metadata": {
  "kernelspec": {
   "display_name": "base",
   "language": "python",
   "name": "python3"
  },
  "language_info": {
   "codemirror_mode": {
    "name": "ipython",
    "version": 3
   },
   "file_extension": ".py",
   "mimetype": "text/x-python",
   "name": "python",
   "nbconvert_exporter": "python",
   "pygments_lexer": "ipython3",
   "version": "3.12.4"
  }
 },
 "nbformat": 4,
 "nbformat_minor": 2
}
