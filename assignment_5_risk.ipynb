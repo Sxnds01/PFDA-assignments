{
 "cells": [
  {
   "cell_type": "markdown",
   "metadata": {},
   "source": [
    "# Plot of 1000 Individual Risk Battle Rounds\n",
    "---\n",
    "This program simulates 1000 different battle rounds for the game Risk and plots the results."
   ]
  },
  {
   "cell_type": "markdown",
   "metadata": {},
   "source": [
    "## Rules of Risk\n",
    "- This game can be played with up to 5 players.\n",
    "- To start, each player roles a die and the player with the highest number can place their first army on any of the territories. Then, starting left of the first player, each player places an amy on unclaimed territory until all are occupied.\n",
    "- Starting from the first player, each player can now decide to attack neighbouring territories based on certain rules. If the player chooses not to attack, they pass the dice to the player on their left.\n",
    "- If the player chooses to attack there are rules to this battle round.\n",
    "- The attacking player can use up to three dice depending on how many armies occupy their own territory and the defender can choose up the two dice. For the purpose of plotting we will assume that the attacker chooses 3 dice and the defender 2 dice each time.\n",
    "- The attacker and defender roll their die at the same time. The lowest of the three dice by the attacker is not counted.\n",
    "- If each of the attacker's dice are higher than the defender's dice the defender will lose an army per die. So if the attacker rolls a 6,6,1 and the defender 4,3 for example, the defender loses two armies and if the defender rolls higher dice than the attacker then they lose two armies. If only one of the attacker's die is higher then the defender losses one army and vice versa but if the defender and attacker roll a die or dice of the same value (i.e. when comparing the highest and second highest dice of the defender and attcker and both the highest and/or second highest are the same), then the attacker loses an army or two armies.\n",
    "- The game is won when one player has an army on every territory."
   ]
  },
  {
   "cell_type": "markdown",
   "metadata": {},
   "source": [
    "## Main Things to Highlight for Programme\n",
    "---\n",
    "- 1000 individual battle rounds\n",
    "- Attacker can roll three numbers from values 1-6 inclusive\n",
    "- Defender can roll two number from values 1-6 inclusive\n",
    "- Lowest number of three is dicarded\n",
    "- If die 1 of attacker is greater than die 1 of defender, defender loses 1 army, if lower then attacker loses an army\n",
    "- If die 2 of attacker is greater than die 2 of defender, defender loses another army, if lower then attacker loses another army\n",
    "- If die 1 of attacker is equal to die 1 of defender, attacker loses 1 army\n",
    "- If die 2 of attacker is equal to die 2 of defender, attacker loses another army\n",
    "- There are 216 possible combinations when rolling 3 dice (6^3), and 36 possible combonations when rolling 2 dice (6^2)."
   ]
  },
  {
   "cell_type": "code",
   "execution_count": 3,
   "metadata": {},
   "outputs": [],
   "source": [
    "import numpy as np\n",
    "import seaborn as sns\n",
    "import matplotlib.pyplot as plt"
   ]
  },
  {
   "cell_type": "code",
   "execution_count": 17,
   "metadata": {},
   "outputs": [
    {
     "name": "stdout",
     "output_type": "stream",
     "text": [
      "[(1, 1), (1, 2), (2, 1), (2, 2), (3, 1), (3, 2)]\n"
     ]
    }
   ],
   "source": [
    "options = [(x, y) for x in range(1, 4) for y in range(1, 3)]\n",
    "\n",
    "print(options)"
   ]
  },
  {
   "cell_type": "code",
   "execution_count": null,
   "metadata": {},
   "outputs": [
    {
     "name": "stdout",
     "output_type": "stream",
     "text": [
      "[Attack(n_attackers=1, n_defenders=1), Attack(n_attackers=1, n_defenders=2), Attack(n_attackers=2, n_defenders=1), Attack(n_attackers=2, n_defenders=2), Attack(n_attackers=3, n_defenders=1), Attack(n_attackers=3, n_defenders=2)]\n"
     ]
    }
   ],
   "source": [
    "# Importing named tuple so that the tuples are easier to diferentiate\n",
    "from typing import NamedTuple\n",
    "\n",
    "class Attack(NamedTuple):\n",
    "    n_attackers: int\n",
    "    n_defenders: int\n",
    "\n",
    "options = [\n",
    "    Attack(x, y) for x in range(1, 4) for y in range(1, 3)\n",
    "]\n",
    "\n",
    "print(options)"
   ]
  },
  {
   "cell_type": "code",
   "execution_count": null,
   "metadata": {},
   "outputs": [
    {
     "name": "stdout",
     "output_type": "stream",
     "text": [
      "Attack(n_attackers=3, n_defenders=2)\n",
      "[5 4 3]\n",
      "[4 1]\n"
     ]
    }
   ],
   "source": [
    "\n",
    "class Attack(NamedTuple):\n",
    "    n_attackers: int\n",
    "    n_defenders: int\n",
    "\n",
    "# Limiting the range to (3,4) and (2,3) as we just want the possible results for if three attacker and two defender dice were rolled\n",
    "options = [\n",
    "    Attack(x, y) for x in range (3, 4) for y in range (2, 3)\n",
    "]\n",
    "# The sort() command sorts the numbers in ascending order and the flip() command changes it into descending order\n",
    "for option in options:\n",
    "    print(option)\n",
    "\n",
    "    attack = np.random.randint(1, 7, option.n_attackers)\n",
    "    attack.sort()\n",
    "    attack = np.flip(attack)\n",
    "    print(attack)\n",
    "\n",
    "    defence = np.random.randint(1, 7, option.n_defenders)\n",
    "    defence.sort()\n",
    "    defence = np.flip(defence)\n",
    "    print(defence)"
   ]
  },
  {
   "cell_type": "code",
   "execution_count": 10,
   "metadata": {},
   "outputs": [
    {
     "data": {
      "text/plain": [
       "1"
      ]
     },
     "execution_count": 10,
     "metadata": {},
     "output_type": "execute_result"
    }
   ],
   "source": [
    "attack.ndim"
   ]
  },
  {
   "cell_type": "code",
   "execution_count": 19,
   "metadata": {},
   "outputs": [
    {
     "name": "stdout",
     "output_type": "stream",
     "text": [
      "Attack(n_attackers=3, n_defenders=2)\n",
      "[[4 3 1]\n",
      " [6 5 3]\n",
      " [6 4 3]\n",
      " [6 2 2]\n",
      " [4 3 1]]\n",
      "[[2 1]\n",
      " [6 5]\n",
      " [5 2]\n",
      " [5 2]\n",
      " [2 1]]\n"
     ]
    }
   ],
   "source": [
    "# In order to simulate 1000 battle rounds, the array should be changed from a 1D array to a 2D array. \n",
    "# This is done by adding n_repeats as a new variable and setting it to the number of battle rounds you want to simulate\n",
    "\n",
    "n_repeats = 5\n",
    "\n",
    "class Attack(NamedTuple):\n",
    "    n_attackers: int\n",
    "    n_defenders: int\n",
    "\n",
    "options = [\n",
    "    Attack(x, y) for x in range (3, 4) for y in range (2, 3)\n",
    "]\n",
    "\n",
    "for option in options:\n",
    "    print(option)\n",
    "\n",
    "    attack = np.random.randint(1, 7, size=(n_repeats, option.n_attackers))\n",
    "    attack.sort()\n",
    "    attack = np.flip(attack)\n",
    "    print(attack)\n",
    "\n",
    "    defence = np.random.randint(1, 7, size=(n_repeats, option.n_defenders))\n",
    "    defence.sort()\n",
    "    defence = np.flip(defence)\n",
    "    print(defence)"
   ]
  },
  {
   "cell_type": "code",
   "execution_count": 21,
   "metadata": {},
   "outputs": [
    {
     "name": "stdout",
     "output_type": "stream",
     "text": [
      "Attack(n_attackers=3, n_defenders=2)\n",
      "[[3 2 1]\n",
      " [6 1 1]\n",
      " [6 4 4]\n",
      " [3 3 1]\n",
      " [5 4 1]]\n",
      "[[6 1]\n",
      " [5 4]\n",
      " [5 5]\n",
      " [6 2]\n",
      " [4 4]]\n",
      "[[False  True]\n",
      " [ True False]\n",
      " [ True False]\n",
      " [False  True]\n",
      " [ True False]]\n",
      "\n"
     ]
    }
   ],
   "source": [
    "# The lowest of the attackers dice rolls can be discarded since it not to be used as per the game rules. \n",
    "# This can be done by trimming the arrays and then using the '>' operator to only compare the two highest dice rolls in all the arrays.\n",
    "\n",
    "n_repeats = 5\n",
    "\n",
    "class Attack(NamedTuple):\n",
    "    n_attackers: int\n",
    "    n_defenders: int\n",
    "\n",
    "options = [\n",
    "    Attack(x, y) for x in range (3, 4) for y in range (2, 3)\n",
    "]\n",
    "\n",
    "for option in options:\n",
    "    print(option)\n",
    "\n",
    "    attack = np.random.randint(1, 7, size=(n_repeats, option.n_attackers))\n",
    "    attack.sort()\n",
    "    attack = np.flip(attack)\n",
    "    print(attack)\n",
    "\n",
    "    defence = np.random.randint(1, 7, size=(n_repeats, option.n_defenders))\n",
    "    defence.sort()\n",
    "    defence = np.flip(defence)\n",
    "    print(defence)\n",
    "\n",
    "# The index min value is set to 1 so that it reads the second value of the array as the last value and disregards any number after that.\n",
    "# All the rows in the arrays are kept but the columns are truncated using the expression `attack[:, :min_length] and defence[:, :min_length]`\n",
    "# The first colon represents all of the rows and the colon in front of the min_length represents all the columns up until the min_legth that was established which is the second column value\n",
    "min_length = min(attack.shape[1], defence.shape[1])\n",
    "result = attack[:, :min_length] > defence[:, :min_length]\n",
    "    \n",
    "print(result)\n",
    "print()"
   ]
  },
  {
   "cell_type": "markdown",
   "metadata": {},
   "source": [
    "The previous code gives True or False as results of each battle. For example, if the attacker got [3 2 1] and the defender got [6 1] the result would be [False True]. The defender beat the attacker with the first dice roll - False, but the attacker beat the defender with the second dice roll - True. If both the attackers dice rolls were higher than the defender, the result would be [True True] and if the defender beat the attacker in both dice rolls the result would be [False False]."
   ]
  },
  {
   "cell_type": "code",
   "execution_count": null,
   "metadata": {},
   "outputs": [
    {
     "name": "stdout",
     "output_type": "stream",
     "text": [
      "Attack(n_attackers=3, n_defenders=2)\n",
      "[[4 3 1]\n",
      " [5 2 1]\n",
      " [5 4 4]\n",
      " [6 6 3]\n",
      " [4 3 1]]\n",
      "[[6 3]\n",
      " [4 4]\n",
      " [5 2]\n",
      " [4 1]\n",
      " [4 3]]\n",
      "[[False False]\n",
      " [ True False]\n",
      " [False  True]\n",
      " [ True  True]\n",
      " [False False]]\n",
      "4\n",
      "\n"
     ]
    }
   ],
   "source": [
    "n_repeats = 5\n",
    "\n",
    "class Attack(NamedTuple):\n",
    "    n_attackers: int\n",
    "    n_defenders: int\n",
    "\n",
    "options = [\n",
    "    Attack(x, y) for x in range (3, 4) for y in range (2, 3)\n",
    "]\n",
    "\n",
    "for option in options:\n",
    "    print(option)\n",
    "\n",
    "    attack = np.random.randint(1, 7, size=(n_repeats, option.n_attackers))\n",
    "    attack.sort()\n",
    "    attack = np.flip(attack)\n",
    "    print(attack)\n",
    "\n",
    "    defence = np.random.randint(1, 7, size=(n_repeats, option.n_defenders))\n",
    "    defence.sort()\n",
    "    defence = np.flip(defence)\n",
    "    print(defence)\n",
    "\n",
    "min_length = min(attack.shape[1], defence.shape[1])\n",
    "result = attack[:, :min_length] > defence[:, :min_length]\n",
    "  \n",
    "print(result)\n",
    "print()"
   ]
  },
  {
   "cell_type": "code",
   "execution_count": null,
   "metadata": {},
   "outputs": [],
   "source": [
    "# Import pandas to create a dataframe\n",
    "import pandas as pd"
   ]
  },
  {
   "cell_type": "code",
   "execution_count": null,
   "metadata": {},
   "outputs": [
    {
     "name": "stdout",
     "output_type": "stream",
     "text": [
      "Attack(n_attackers=3, n_defenders=2)\n",
      "[[5 4 3]\n",
      " [6 6 1]\n",
      " [2 1 1]\n",
      " [6 6 2]\n",
      " [6 6 4]]\n",
      "[[4 3]\n",
      " [4 3]\n",
      " [5 4]\n",
      " [5 1]\n",
      " [5 1]]\n",
      "[[ True  True]\n",
      " [ True  True]\n",
      " [False False]\n",
      " [ True  True]\n",
      " [ True  True]]\n",
      "       0      1\n",
      "0   True   True\n",
      "1   True   True\n",
      "2  False  False\n",
      "3   True   True\n",
      "4   True   True\n",
      "\n"
     ]
    }
   ],
   "source": [
    "n_repeats = 5\n",
    "\n",
    "class Attack(NamedTuple):\n",
    "    n_attackers: int\n",
    "    n_defenders: int\n",
    "\n",
    "options = [\n",
    "    Attack(x, y) for x in range (3, 4) for y in range (2, 3)\n",
    "]\n",
    "\n",
    "for option in options:\n",
    "    print(option)\n",
    "\n",
    "    attack = np.random.randint(1, 7, size=(n_repeats, option.n_attackers))\n",
    "    attack.sort()\n",
    "    attack = np.flip(attack)\n",
    "    print(attack)\n",
    "\n",
    "    defence = np.random.randint(1, 7, size=(n_repeats, option.n_defenders))\n",
    "    defence.sort()\n",
    "    defence = np.flip(defence)\n",
    "    print(defence)\n",
    "\n",
    "min_length = min(attack.shape[1], defence.shape[1])\n",
    "result = attack[:, :min_length] > defence[:, :min_length]\n",
    "\n",
    "# Can convert the True/False results into a dataframe using pd.DataFrame()  \n",
    "print(result)\n",
    "df = pd.DataFrame(result)\n",
    "print(df)\n",
    "print()"
   ]
  },
  {
   "cell_type": "code",
   "execution_count": 30,
   "metadata": {},
   "outputs": [
    {
     "name": "stdout",
     "output_type": "stream",
     "text": [
      "Attack(n_attackers=3, n_defenders=2)\n",
      "         0      1\n",
      "0    False  False\n",
      "1     True   True\n",
      "2    False  False\n",
      "3    False  False\n",
      "4     True   True\n",
      "..     ...    ...\n",
      "995  False  False\n",
      "996   True   True\n",
      "997  False  False\n",
      "998   True   True\n",
      "999  False  False\n",
      "\n",
      "[1000 rows x 2 columns]\n",
      "\n"
     ]
    }
   ],
   "source": [
    "n_repeats = 1000\n",
    "\n",
    "class Attack(NamedTuple):\n",
    "    n_attackers: int\n",
    "    n_defenders: int\n",
    "\n",
    "options = [\n",
    "    Attack(x, y) for x in range (3, 4) for y in range (2, 3)\n",
    "]\n",
    "\n",
    "for option in options:\n",
    "    print(option)\n",
    "\n",
    "    attack = np.random.randint(1, 7, size=(n_repeats, option.n_attackers))\n",
    "    attack.sort()\n",
    "    attack = np.flip(attack)\n",
    "    #print(attack)\n",
    "\n",
    "    defence = np.random.randint(1, 7, size=(n_repeats, option.n_defenders))\n",
    "    defence.sort()\n",
    "    defence = np.flip(defence)\n",
    "    #print(defence)\n",
    "\n",
    "min_length = min(attack.shape[1], defence.shape[1])\n",
    "result = attack[:, :min_length] > defence[:, :min_length]\n",
    "\n",
    "# Can convert the True/False results into a dataframe using pd.DataFrame()  \n",
    "#print(result)\n",
    "df = pd.DataFrame(result)\n",
    "print(df)\n",
    "print()"
   ]
  },
  {
   "cell_type": "code",
   "execution_count": 31,
   "metadata": {},
   "outputs": [],
   "source": [
    "df.to_csv('risk.csv')"
   ]
  },
  {
   "cell_type": "code",
   "execution_count": 45,
   "metadata": {},
   "outputs": [
    {
     "data": {
      "text/html": [
       "<div>\n",
       "<style scoped>\n",
       "    .dataframe tbody tr th:only-of-type {\n",
       "        vertical-align: middle;\n",
       "    }\n",
       "\n",
       "    .dataframe tbody tr th {\n",
       "        vertical-align: top;\n",
       "    }\n",
       "\n",
       "    .dataframe thead th {\n",
       "        text-align: right;\n",
       "    }\n",
       "</style>\n",
       "<table border=\"1\" class=\"dataframe\">\n",
       "  <thead>\n",
       "    <tr style=\"text-align: right;\">\n",
       "      <th></th>\n",
       "      <th>1</th>\n",
       "      <th>2</th>\n",
       "    </tr>\n",
       "    <tr>\n",
       "      <th>0</th>\n",
       "      <th></th>\n",
       "      <th></th>\n",
       "    </tr>\n",
       "  </thead>\n",
       "  <tbody>\n",
       "    <tr>\n",
       "      <th>NaN</th>\n",
       "      <td>0</td>\n",
       "      <td>1</td>\n",
       "    </tr>\n",
       "    <tr>\n",
       "      <th>0.0</th>\n",
       "      <td>False</td>\n",
       "      <td>False</td>\n",
       "    </tr>\n",
       "    <tr>\n",
       "      <th>1.0</th>\n",
       "      <td>True</td>\n",
       "      <td>True</td>\n",
       "    </tr>\n",
       "    <tr>\n",
       "      <th>2.0</th>\n",
       "      <td>False</td>\n",
       "      <td>False</td>\n",
       "    </tr>\n",
       "    <tr>\n",
       "      <th>3.0</th>\n",
       "      <td>False</td>\n",
       "      <td>False</td>\n",
       "    </tr>\n",
       "    <tr>\n",
       "      <th>...</th>\n",
       "      <td>...</td>\n",
       "      <td>...</td>\n",
       "    </tr>\n",
       "    <tr>\n",
       "      <th>995.0</th>\n",
       "      <td>False</td>\n",
       "      <td>False</td>\n",
       "    </tr>\n",
       "    <tr>\n",
       "      <th>996.0</th>\n",
       "      <td>True</td>\n",
       "      <td>True</td>\n",
       "    </tr>\n",
       "    <tr>\n",
       "      <th>997.0</th>\n",
       "      <td>False</td>\n",
       "      <td>False</td>\n",
       "    </tr>\n",
       "    <tr>\n",
       "      <th>998.0</th>\n",
       "      <td>True</td>\n",
       "      <td>True</td>\n",
       "    </tr>\n",
       "    <tr>\n",
       "      <th>999.0</th>\n",
       "      <td>False</td>\n",
       "      <td>False</td>\n",
       "    </tr>\n",
       "  </tbody>\n",
       "</table>\n",
       "<p>1001 rows × 2 columns</p>\n",
       "</div>"
      ],
      "text/plain": [
       "           1      2\n",
       "0                  \n",
       "NaN        0      1\n",
       "0.0    False  False\n",
       "1.0     True   True\n",
       "2.0    False  False\n",
       "3.0    False  False\n",
       "...      ...    ...\n",
       "995.0  False  False\n",
       "996.0   True   True\n",
       "997.0  False  False\n",
       "998.0   True   True\n",
       "999.0  False  False\n",
       "\n",
       "[1001 rows x 2 columns]"
      ]
     },
     "execution_count": 45,
     "metadata": {},
     "output_type": "execute_result"
    }
   ],
   "source": [
    "df = pd.read_csv('risk.csv', header=None, index_col=0)\n",
    "\n",
    "df"
   ]
  },
  {
   "cell_type": "code",
   "execution_count": null,
   "metadata": {},
   "outputs": [
    {
     "name": "stdout",
     "output_type": "stream",
     "text": [
      "1099\n"
     ]
    }
   ],
   "source": [
    "#np.sum() calculates the number of 'True' results\n",
    "print(np.sum(result))"
   ]
  },
  {
   "cell_type": "code",
   "execution_count": 37,
   "metadata": {},
   "outputs": [
    {
     "name": "stdout",
     "output_type": "stream",
     "text": [
      "1099\n"
     ]
    }
   ],
   "source": [
    "attacker_wins = np.sum(result)\n",
    "print(attacker_wins)"
   ]
  },
  {
   "cell_type": "code",
   "execution_count": 38,
   "metadata": {},
   "outputs": [
    {
     "name": "stdout",
     "output_type": "stream",
     "text": [
      "901\n"
     ]
    }
   ],
   "source": [
    "defender_wins = (n_repeats * 2) - np.sum(result) \n",
    "print(defender_wins)"
   ]
  },
  {
   "cell_type": "markdown",
   "metadata": {},
   "source": [
    "## References\n",
    "---\n",
    "1. How to play Risk: https://www.hasbro.com/common/instruct/risk.pdf\n",
    "2. Battle Outcome Analysis: https://www.c4i.gr/xgeorgio/docs/RISK-board-game%20_rev-3.pdf\n",
    "3. Battle simulation code: https://thepythoncodingbook.com/2022/12/30/using-python-numpy-to-improve-board-game-strategy-risk/\n",
    "4. Numpy documentation: https://numpy.org/doc/2.1/user/absolute_beginners.html#how-to-save-and-load-numpy-objects"
   ]
  }
 ],
 "metadata": {
  "kernelspec": {
   "display_name": "base",
   "language": "python",
   "name": "python3"
  },
  "language_info": {
   "codemirror_mode": {
    "name": "ipython",
    "version": 3
   },
   "file_extension": ".py",
   "mimetype": "text/x-python",
   "name": "python",
   "nbconvert_exporter": "python",
   "pygments_lexer": "ipython3",
   "version": "3.12.4"
  }
 },
 "nbformat": 4,
 "nbformat_minor": 2
}
